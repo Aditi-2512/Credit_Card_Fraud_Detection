{
 "cells": [
  {
   "cell_type": "code",
   "execution_count": 1,
   "id": "94b4fe11",
   "metadata": {},
   "outputs": [
    {
     "name": "stdout",
     "output_type": "stream",
     "text": [
      "Files removed: 1\n",
      "Note: you may need to restart the kernel to use updated packages.\n"
     ]
    }
   ],
   "source": [
    "pip cache purge"
   ]
  },
  {
   "cell_type": "code",
   "execution_count": 1,
   "id": "f1783e98",
   "metadata": {},
   "outputs": [
    {
     "name": "stdout",
     "output_type": "stream",
     "text": [
      "Requirement already satisfied: numpy==1.24.3 in c:\\users\\aditi 732\\anaconda3\\lib\\site-packages (1.24.3)\n",
      "Note: you may need to restart the kernel to use updated packages.\n"
     ]
    },
    {
     "name": "stderr",
     "output_type": "stream",
     "text": [
      "WARNING: Ignoring invalid distribution -umpy (c:\\users\\aditi 732\\anaconda3\\lib\\site-packages)\n",
      "WARNING: Ignoring invalid distribution -umpy (c:\\users\\aditi 732\\anaconda3\\lib\\site-packages)\n",
      "WARNING: Ignoring invalid distribution -umpy (c:\\users\\aditi 732\\anaconda3\\lib\\site-packages)\n",
      "WARNING: Ignoring invalid distribution -umpy (c:\\users\\aditi 732\\anaconda3\\lib\\site-packages)\n",
      "WARNING: Ignoring invalid distribution -umpy (c:\\users\\aditi 732\\anaconda3\\lib\\site-packages)\n",
      "WARNING: Ignoring invalid distribution -umpy (c:\\users\\aditi 732\\anaconda3\\lib\\site-packages)\n"
     ]
    }
   ],
   "source": [
    "pip install numpy==1.24.3"
   ]
  },
  {
   "cell_type": "code",
   "execution_count": 2,
   "id": "0caed39e",
   "metadata": {},
   "outputs": [],
   "source": [
    "import pandas as pd\n",
    "import numpy as np\n",
    "import seaborn as sns\n",
    "import matplotlib.pyplot as plt"
   ]
  },
  {
   "cell_type": "code",
   "execution_count": 3,
   "id": "d18d1378",
   "metadata": {},
   "outputs": [],
   "source": [
    "df = pd.read_csv(r\"C:\\Users\\Aditi 732\\Downloads\\archive (1)\\creditcard.csv\")"
   ]
  },
  {
   "cell_type": "code",
   "execution_count": 4,
   "id": "7660366f",
   "metadata": {},
   "outputs": [
    {
     "data": {
      "text/html": [
       "<div>\n",
       "<style scoped>\n",
       "    .dataframe tbody tr th:only-of-type {\n",
       "        vertical-align: middle;\n",
       "    }\n",
       "\n",
       "    .dataframe tbody tr th {\n",
       "        vertical-align: top;\n",
       "    }\n",
       "\n",
       "    .dataframe thead th {\n",
       "        text-align: right;\n",
       "    }\n",
       "</style>\n",
       "<table border=\"1\" class=\"dataframe\">\n",
       "  <thead>\n",
       "    <tr style=\"text-align: right;\">\n",
       "      <th></th>\n",
       "      <th>Time</th>\n",
       "      <th>V1</th>\n",
       "      <th>V2</th>\n",
       "      <th>V3</th>\n",
       "      <th>V4</th>\n",
       "      <th>V5</th>\n",
       "      <th>V6</th>\n",
       "      <th>V7</th>\n",
       "      <th>V8</th>\n",
       "      <th>V9</th>\n",
       "      <th>...</th>\n",
       "      <th>V21</th>\n",
       "      <th>V22</th>\n",
       "      <th>V23</th>\n",
       "      <th>V24</th>\n",
       "      <th>V25</th>\n",
       "      <th>V26</th>\n",
       "      <th>V27</th>\n",
       "      <th>V28</th>\n",
       "      <th>Amount</th>\n",
       "      <th>Class</th>\n",
       "    </tr>\n",
       "  </thead>\n",
       "  <tbody>\n",
       "    <tr>\n",
       "      <th>0</th>\n",
       "      <td>0.0</td>\n",
       "      <td>-1.359807</td>\n",
       "      <td>-0.072781</td>\n",
       "      <td>2.536347</td>\n",
       "      <td>1.378155</td>\n",
       "      <td>-0.338321</td>\n",
       "      <td>0.462388</td>\n",
       "      <td>0.239599</td>\n",
       "      <td>0.098698</td>\n",
       "      <td>0.363787</td>\n",
       "      <td>...</td>\n",
       "      <td>-0.018307</td>\n",
       "      <td>0.277838</td>\n",
       "      <td>-0.110474</td>\n",
       "      <td>0.066928</td>\n",
       "      <td>0.128539</td>\n",
       "      <td>-0.189115</td>\n",
       "      <td>0.133558</td>\n",
       "      <td>-0.021053</td>\n",
       "      <td>149.62</td>\n",
       "      <td>0</td>\n",
       "    </tr>\n",
       "    <tr>\n",
       "      <th>1</th>\n",
       "      <td>0.0</td>\n",
       "      <td>1.191857</td>\n",
       "      <td>0.266151</td>\n",
       "      <td>0.166480</td>\n",
       "      <td>0.448154</td>\n",
       "      <td>0.060018</td>\n",
       "      <td>-0.082361</td>\n",
       "      <td>-0.078803</td>\n",
       "      <td>0.085102</td>\n",
       "      <td>-0.255425</td>\n",
       "      <td>...</td>\n",
       "      <td>-0.225775</td>\n",
       "      <td>-0.638672</td>\n",
       "      <td>0.101288</td>\n",
       "      <td>-0.339846</td>\n",
       "      <td>0.167170</td>\n",
       "      <td>0.125895</td>\n",
       "      <td>-0.008983</td>\n",
       "      <td>0.014724</td>\n",
       "      <td>2.69</td>\n",
       "      <td>0</td>\n",
       "    </tr>\n",
       "    <tr>\n",
       "      <th>2</th>\n",
       "      <td>1.0</td>\n",
       "      <td>-1.358354</td>\n",
       "      <td>-1.340163</td>\n",
       "      <td>1.773209</td>\n",
       "      <td>0.379780</td>\n",
       "      <td>-0.503198</td>\n",
       "      <td>1.800499</td>\n",
       "      <td>0.791461</td>\n",
       "      <td>0.247676</td>\n",
       "      <td>-1.514654</td>\n",
       "      <td>...</td>\n",
       "      <td>0.247998</td>\n",
       "      <td>0.771679</td>\n",
       "      <td>0.909412</td>\n",
       "      <td>-0.689281</td>\n",
       "      <td>-0.327642</td>\n",
       "      <td>-0.139097</td>\n",
       "      <td>-0.055353</td>\n",
       "      <td>-0.059752</td>\n",
       "      <td>378.66</td>\n",
       "      <td>0</td>\n",
       "    </tr>\n",
       "    <tr>\n",
       "      <th>3</th>\n",
       "      <td>1.0</td>\n",
       "      <td>-0.966272</td>\n",
       "      <td>-0.185226</td>\n",
       "      <td>1.792993</td>\n",
       "      <td>-0.863291</td>\n",
       "      <td>-0.010309</td>\n",
       "      <td>1.247203</td>\n",
       "      <td>0.237609</td>\n",
       "      <td>0.377436</td>\n",
       "      <td>-1.387024</td>\n",
       "      <td>...</td>\n",
       "      <td>-0.108300</td>\n",
       "      <td>0.005274</td>\n",
       "      <td>-0.190321</td>\n",
       "      <td>-1.175575</td>\n",
       "      <td>0.647376</td>\n",
       "      <td>-0.221929</td>\n",
       "      <td>0.062723</td>\n",
       "      <td>0.061458</td>\n",
       "      <td>123.50</td>\n",
       "      <td>0</td>\n",
       "    </tr>\n",
       "    <tr>\n",
       "      <th>4</th>\n",
       "      <td>2.0</td>\n",
       "      <td>-1.158233</td>\n",
       "      <td>0.877737</td>\n",
       "      <td>1.548718</td>\n",
       "      <td>0.403034</td>\n",
       "      <td>-0.407193</td>\n",
       "      <td>0.095921</td>\n",
       "      <td>0.592941</td>\n",
       "      <td>-0.270533</td>\n",
       "      <td>0.817739</td>\n",
       "      <td>...</td>\n",
       "      <td>-0.009431</td>\n",
       "      <td>0.798278</td>\n",
       "      <td>-0.137458</td>\n",
       "      <td>0.141267</td>\n",
       "      <td>-0.206010</td>\n",
       "      <td>0.502292</td>\n",
       "      <td>0.219422</td>\n",
       "      <td>0.215153</td>\n",
       "      <td>69.99</td>\n",
       "      <td>0</td>\n",
       "    </tr>\n",
       "  </tbody>\n",
       "</table>\n",
       "<p>5 rows × 31 columns</p>\n",
       "</div>"
      ],
      "text/plain": [
       "   Time        V1        V2        V3        V4        V5        V6        V7  \\\n",
       "0   0.0 -1.359807 -0.072781  2.536347  1.378155 -0.338321  0.462388  0.239599   \n",
       "1   0.0  1.191857  0.266151  0.166480  0.448154  0.060018 -0.082361 -0.078803   \n",
       "2   1.0 -1.358354 -1.340163  1.773209  0.379780 -0.503198  1.800499  0.791461   \n",
       "3   1.0 -0.966272 -0.185226  1.792993 -0.863291 -0.010309  1.247203  0.237609   \n",
       "4   2.0 -1.158233  0.877737  1.548718  0.403034 -0.407193  0.095921  0.592941   \n",
       "\n",
       "         V8        V9  ...       V21       V22       V23       V24       V25  \\\n",
       "0  0.098698  0.363787  ... -0.018307  0.277838 -0.110474  0.066928  0.128539   \n",
       "1  0.085102 -0.255425  ... -0.225775 -0.638672  0.101288 -0.339846  0.167170   \n",
       "2  0.247676 -1.514654  ...  0.247998  0.771679  0.909412 -0.689281 -0.327642   \n",
       "3  0.377436 -1.387024  ... -0.108300  0.005274 -0.190321 -1.175575  0.647376   \n",
       "4 -0.270533  0.817739  ... -0.009431  0.798278 -0.137458  0.141267 -0.206010   \n",
       "\n",
       "        V26       V27       V28  Amount  Class  \n",
       "0 -0.189115  0.133558 -0.021053  149.62      0  \n",
       "1  0.125895 -0.008983  0.014724    2.69      0  \n",
       "2 -0.139097 -0.055353 -0.059752  378.66      0  \n",
       "3 -0.221929  0.062723  0.061458  123.50      0  \n",
       "4  0.502292  0.219422  0.215153   69.99      0  \n",
       "\n",
       "[5 rows x 31 columns]"
      ]
     },
     "execution_count": 4,
     "metadata": {},
     "output_type": "execute_result"
    }
   ],
   "source": [
    "df.head(5)"
   ]
  },
  {
   "cell_type": "code",
   "execution_count": 5,
   "id": "d0d47f40",
   "metadata": {},
   "outputs": [
    {
     "name": "stdout",
     "output_type": "stream",
     "text": [
      "<class 'pandas.core.frame.DataFrame'>\n",
      "RangeIndex: 284807 entries, 0 to 284806\n",
      "Data columns (total 31 columns):\n",
      " #   Column  Non-Null Count   Dtype  \n",
      "---  ------  --------------   -----  \n",
      " 0   Time    284807 non-null  float64\n",
      " 1   V1      284807 non-null  float64\n",
      " 2   V2      284807 non-null  float64\n",
      " 3   V3      284807 non-null  float64\n",
      " 4   V4      284807 non-null  float64\n",
      " 5   V5      284807 non-null  float64\n",
      " 6   V6      284807 non-null  float64\n",
      " 7   V7      284807 non-null  float64\n",
      " 8   V8      284807 non-null  float64\n",
      " 9   V9      284807 non-null  float64\n",
      " 10  V10     284807 non-null  float64\n",
      " 11  V11     284807 non-null  float64\n",
      " 12  V12     284807 non-null  float64\n",
      " 13  V13     284807 non-null  float64\n",
      " 14  V14     284807 non-null  float64\n",
      " 15  V15     284807 non-null  float64\n",
      " 16  V16     284807 non-null  float64\n",
      " 17  V17     284807 non-null  float64\n",
      " 18  V18     284807 non-null  float64\n",
      " 19  V19     284807 non-null  float64\n",
      " 20  V20     284807 non-null  float64\n",
      " 21  V21     284807 non-null  float64\n",
      " 22  V22     284807 non-null  float64\n",
      " 23  V23     284807 non-null  float64\n",
      " 24  V24     284807 non-null  float64\n",
      " 25  V25     284807 non-null  float64\n",
      " 26  V26     284807 non-null  float64\n",
      " 27  V27     284807 non-null  float64\n",
      " 28  V28     284807 non-null  float64\n",
      " 29  Amount  284807 non-null  float64\n",
      " 30  Class   284807 non-null  int64  \n",
      "dtypes: float64(30), int64(1)\n",
      "memory usage: 67.4 MB\n"
     ]
    }
   ],
   "source": [
    "df.info()"
   ]
  },
  {
   "cell_type": "code",
   "execution_count": 6,
   "id": "0084f185",
   "metadata": {},
   "outputs": [],
   "source": [
    "data = df"
   ]
  },
  {
   "cell_type": "code",
   "execution_count": 7,
   "id": "e68df376",
   "metadata": {},
   "outputs": [
    {
     "data": {
      "text/plain": [
       "Time      0\n",
       "V1        0\n",
       "V2        0\n",
       "V3        0\n",
       "V4        0\n",
       "V5        0\n",
       "V6        0\n",
       "V7        0\n",
       "V8        0\n",
       "V9        0\n",
       "V10       0\n",
       "V11       0\n",
       "V12       0\n",
       "V13       0\n",
       "V14       0\n",
       "V15       0\n",
       "V16       0\n",
       "V17       0\n",
       "V18       0\n",
       "V19       0\n",
       "V20       0\n",
       "V21       0\n",
       "V22       0\n",
       "V23       0\n",
       "V24       0\n",
       "V25       0\n",
       "V26       0\n",
       "V27       0\n",
       "V28       0\n",
       "Amount    0\n",
       "Class     0\n",
       "dtype: int64"
      ]
     },
     "execution_count": 7,
     "metadata": {},
     "output_type": "execute_result"
    }
   ],
   "source": [
    "# Check for missing values\n",
    "data.isna().sum()"
   ]
  },
  {
   "cell_type": "markdown",
   "id": "578b55bc",
   "metadata": {},
   "source": [
    "#### There are no missing values in our dataframe"
   ]
  },
  {
   "cell_type": "markdown",
   "id": "335d18e8",
   "metadata": {},
   "source": [
    "## Dataset Information"
   ]
  },
  {
   "cell_type": "code",
   "execution_count": 8,
   "id": "05081b12",
   "metadata": {},
   "outputs": [
    {
     "data": {
      "image/png": "[encoded data removed]",
      "text/plain": [
       "<Figure size 640x480 with 1 Axes>"
      ]
     },
     "metadata": {},
     "output_type": "display_data"
    }
   ],
   "source": [
    "# Fraudlent Customers in percentage form\n",
    "\n",
    "labels = ['Fraudlent','Non-Fraudlent']\n",
    "\n",
    "plt.title('Customers Fraudlent')\n",
    "data['Class'].value_counts().plot(kind='pie',labels=labels,autopct='%1.1f%%',shadow=True, colors=['#C8FFE0','#33BBC5'])\n",
    "plt.ylabel(' ')\n",
    "\n",
    "plt.show()"
   ]
  },
  {
   "cell_type": "code",
   "execution_count": 9,
   "id": "5c52b135",
   "metadata": {},
   "outputs": [
    {
     "data": {
      "image/png": "[encoded data removed]",
      "text/plain": [
       "<Figure size 800x600 with 1 Axes>"
      ]
     },
     "metadata": {},
     "output_type": "display_data"
    }
   ],
   "source": [
    "# Count of Fraudlent customers into bar graph\n",
    "\n",
    "# Calculate the class distribution\n",
    "class_distribution = data['Class'].value_counts()\n",
    "\n",
    "# Plot the class distribution\n",
    "plt.figure(figsize=(8,6))\n",
    "ax = class_distribution.plot(kind = 'bar', color = 'steelblue')\n",
    "plt.xlabel('Class')\n",
    "plt.ylabel('Count')\n",
    "plt.xticks([0,1],['Non_fraudlent','Fraudlent'])\n",
    "plt.title('Class Distribution')\n",
    "\n",
    "# Add values on top of the bar\n",
    "for i,count in enumerate(class_distribution):\n",
    "    plt.text(i , count+500, str(count), ha= 'center', va ='bottom', fontweight ='bold')\n",
    "\n",
    "plt.tight_layout()\n",
    "plt.show()"
   ]
  },
  {
   "cell_type": "markdown",
   "id": "3db51281",
   "metadata": {},
   "source": [
    "## Check for Duplicate Values"
   ]
  },
  {
   "cell_type": "code",
   "execution_count": 10,
   "id": "f0fb319a",
   "metadata": {},
   "outputs": [],
   "source": [
    "from pylab import rcParams\n",
    "rcParams['figure.figsize'] = 14, 8\n",
    "RANDOM_SEED = 42\n",
    "LABELS = [\"Normal\", \"Fraud\"]"
   ]
  },
  {
   "cell_type": "code",
   "execution_count": 11,
   "id": "c7108087",
   "metadata": {},
   "outputs": [
    {
     "name": "stdout",
     "output_type": "stream",
     "text": [
      "Number of duplicate values in a dataset :  1081\n"
     ]
    }
   ],
   "source": [
    "print('Number of duplicate values in a dataset : ', data.duplicated().sum())"
   ]
  },
  {
   "cell_type": "code",
   "execution_count": 12,
   "id": "999d7b32",
   "metadata": {},
   "outputs": [],
   "source": [
    "# Get the fraud and the normal dataset\n",
    "fraud = data[data['Class']== 1]\n",
    "\n",
    "normal = data[data['Class']== 0]"
   ]
  },
  {
   "cell_type": "code",
   "execution_count": 13,
   "id": "f5c9f873",
   "metadata": {},
   "outputs": [
    {
     "name": "stdout",
     "output_type": "stream",
     "text": [
      "(492, 31) (284315, 31)\n"
     ]
    }
   ],
   "source": [
    "print(fraud.shape,normal.shape)"
   ]
  },
  {
   "cell_type": "markdown",
   "id": "8eb73552",
   "metadata": {},
   "source": [
    "## Dividing the dataset"
   ]
  },
  {
   "cell_type": "code",
   "execution_count": 14,
   "id": "cfd2ed6a",
   "metadata": {},
   "outputs": [
    {
     "name": "stdout",
     "output_type": "stream",
     "text": [
      "(284807, 30)\n",
      "(284807,)\n"
     ]
    }
   ],
   "source": [
    "# Creating Independent and Dependent Features \n",
    "columns = data.columns.tolist()\n",
    "columns = [c for c in columns if c not in[\"Class\"]]\n",
    "target = \"Class\"\n",
    "state = np.random.RandomState(42)\n",
    "X = data[columns]\n",
    "Y = data[target]\n",
    "X_outliers = state.uniform(low = 0, high=1, size=(X.shape[0],X.shape[1]))\n",
    "\n",
    "#Print the shapes of X and Y\n",
    "print(X.shape)\n",
    "print(Y.shape)"
   ]
  },
  {
   "cell_type": "markdown",
   "id": "baddc950",
   "metadata": {},
   "source": [
    "## Handling Imbalanced Dataset"
   ]
  },
  {
   "cell_type": "code",
   "execution_count": 15,
   "id": "74164bd3",
   "metadata": {},
   "outputs": [],
   "source": [
    "from imblearn.under_sampling import NearMiss"
   ]
  },
  {
   "cell_type": "code",
   "execution_count": 16,
   "id": "86032a9a",
   "metadata": {},
   "outputs": [],
   "source": [
    "# Implementing Under Sampling to handle Imbalanced Dataset\n",
    "nm = NearMiss()\n",
    "X_res,y_res = nm.fit_resample(X,Y)"
   ]
  },
  {
   "cell_type": "code",
   "execution_count": 17,
   "id": "6fa5f546",
   "metadata": {},
   "outputs": [
    {
     "data": {
      "text/plain": [
       "((984, 30), (984,))"
      ]
     },
     "execution_count": 17,
     "metadata": {},
     "output_type": "execute_result"
    }
   ],
   "source": [
    "X_res.shape,y_res.shape"
   ]
  },
  {
   "cell_type": "code",
   "execution_count": 18,
   "id": "862ea46f",
   "metadata": {},
   "outputs": [
    {
     "name": "stdout",
     "output_type": "stream",
     "text": [
      "Original dataset shapeCounter({0: 284315, 1: 492})\n",
      "Resampled dataset shapeCounter({0: 492, 1: 492})\n"
     ]
    }
   ],
   "source": [
    "from collections import Counter\n",
    "print('Original dataset shape{}'.format(Counter(Y)))\n",
    "print('Resampled dataset shape{}'.format(Counter(y_res)))"
   ]
  },
  {
   "cell_type": "markdown",
   "id": "02579b97",
   "metadata": {},
   "source": [
    "## Hence now the dataset is balanced with 50% of both fraudlent and non-fraudlent data"
   ]
  },
  {
   "cell_type": "markdown",
   "id": "3be94d2e",
   "metadata": {},
   "source": [
    "## Descriptive Statistics"
   ]
  },
  {
   "cell_type": "code",
   "execution_count": null,
   "id": "56a4797c",
   "metadata": {},
   "outputs": [],
   "source": [
    "# Seperate statistics for fraudlent and non-fraudlent transactions\n",
    "fraudlent_transactions = data[data['Class'] == 1]\n",
    "non_fraudlent_transactions = data[data['Class'] == 0]\n",
    "\n",
    "# Descriptive Statitics for fraudlent transactions\n",
    "fraudlent_stats = fraudlent_transactions['Amount'].describe()\n",
    "print(fraudlent_stats)"
   ]
  },
  {
   "cell_type": "code",
   "execution_count": null,
   "id": "89427c5c",
   "metadata": {},
   "outputs": [],
   "source": [
    "# Descriptive Statistics for Non-Fraudlent transactions\n",
    "non_fraudlent_stats = non_fraudlent_transactions['Amount'].describe()\n",
    "print(non_fraudlent_stats)"
   ]
  },
  {
   "cell_type": "code",
   "execution_count": null,
   "id": "ee1b2d15",
   "metadata": {},
   "outputs": [],
   "source": [
    "# Overall Statistical summary\n",
    "\n",
    "col_stats = data[['Amount','Time','Class']]\n",
    "cmap1 = 'Blues'\n",
    "\n",
    "def desc_stats(dataframe):\n",
    "    desc = dataframe.describe()\n",
    "    f, ax = plt.subplots(figsize=(10 , desc.shape[0] *0.75 ))\n",
    "    \n",
    "    sns.heatmap(desc , annot = True , cmap = cmap1, fmt = '.2f', ax = ax , linecolor = 'white', linewidths = 1.3, cbar = False)\n",
    "    plt.xticks(size = 14)\n",
    "    plt.yticks(size = 12)\n",
    "    plt.title('Descriptive Statistics')\n",
    "    \n",
    "desc_stats(col_stats)"
   ]
  },
  {
   "cell_type": "code",
   "execution_count": null,
   "id": "5c83b64a",
   "metadata": {},
   "outputs": [],
   "source": [
    "# Convert time column into days\n",
    "\n",
    "time_days = data['Time'] / (3600*24)\n",
    "\n",
    "# Group transaction amounts by time (days) and calculate the average\n",
    "average_amounts = data.groupby(time_days)['Amount'].mean()\n",
    "\n",
    "# Get our data into line chart\n",
    "plt.figure(figsize=(12,6))\n",
    "plt.plot(average_amounts.index ,average_amounts.values , color='#EDB7ED')\n",
    "plt.xlabel('Time in days')\n",
    "plt.ylabel('Average Amount')\n",
    "plt.title('Average Transaction amount over time(days)')\n",
    "\n",
    "plt.show()"
   ]
  },
  {
   "cell_type": "code",
   "execution_count": null,
   "id": "72082bae",
   "metadata": {},
   "outputs": [],
   "source": [
    "# Convert the time time dataset into weeks\n",
    "time_weeks = data['Time'] / (3600*24*7)\n",
    "\n",
    "# Group the time data and then calculate the average transaction \n",
    "average_amount_week = data.groupby(time_weeks)['Amount'].mean()\n",
    "    \n",
    "# Line Plot\n",
    "plt.figure(figsize=(12,6))\n",
    "plt.plot(average_amount_week.index , average_amount_week.values, color ='#82A0D8')\n",
    "plt.xlabel('Time in weeks')\n",
    "plt.ylabel('Average Amount')\n",
    "plt.title('Average Amount over time(Weeks)')\n",
    "\n",
    "plt.show()"
   ]
  },
  {
   "cell_type": "markdown",
   "id": "47aad5fa",
   "metadata": {},
   "source": [
    "## Time pattern"
   ]
  },
  {
   "cell_type": "code",
   "execution_count": null,
   "id": "a5b9cb12",
   "metadata": {},
   "outputs": [],
   "source": [
    "# Convert the time columns into datetime one\n",
    "data['Time'] = pd.to_datetime(data['Time'] , unit ='s' )\n",
    "\n",
    "# Extract hour and day of the week\n",
    "data['Hour'] = data['Time'].dt.hour\n",
    "data['DayofWeek'] = data['Time'].dt.dayofweek\n",
    "\n",
    "# Group fraudlent and non-fraudlent transactions by hour and day of the week\n",
    "fraud_transactions = data[data['Class'] == 0]\n",
    "non_fraud_transactions = data[data['Class'] == 1]\n",
    "\n",
    "fraudlent_counts_hour = fraud_transactions.groupby('Hour').size()\n",
    "non_fraudlent_counts_hour = non_fraud_transactions.groupby('Hour').size()\n",
    "\n",
    "# Grouping the transactions by day of the week\n",
    "fraudlent_counts_day = fraud_transactions.groupby('DayofWeek').size()\n",
    "non_fraudlent_counts_day = non_fraud_transactions.groupby('DayofWeek').size()\n",
    "\n",
    "#Plot the graph \n",
    "plt.figure(figsize=(12,6))\n",
    "plt.subplot(2, 1 ,1)\n",
    "plt.plot(fraudlent_counts_hour.index , fraudlent_counts_hour.values , color = '#BC7AF9', label = 'Fraudlent')\n",
    "plt.plot(non_fraudlent_counts_hour.index, non_fraudlent_counts_hour.values, color ='#FFA1F5', label = 'Non_fraudlent')\n",
    "plt.xlabel('Hours of the Day')\n",
    "plt.ylabel('Number of Transactions')\n",
    "plt.title('Patterns of Fraudlent and Non-fraudlent trasactions by hour')\n",
    "plt.legend()\n",
    "plt.show()"
   ]
  },
  {
   "cell_type": "code",
   "execution_count": null,
   "id": "7bcf78ff",
   "metadata": {},
   "outputs": [],
   "source": [
    "plt.subplot(2, 1 , 2)\n",
    "plt.plot(fraudlent_counts_day.index , fraudlent_counts_day.values, color ='#793FDF', label = 'Fraudlent')\n",
    "plt.plot(non_fraudlent_counts_day.index, non_fraudlent_counts_day.values, color='#7091F5' , label = 'Non-Fraudlent')\n",
    "plt.xlabel('Day of the week')\n",
    "plt.ylabel('Number of transactions')\n",
    "plt.title('Patterns of Fraudlent and Non-fraudlent trasactions by Days of the week')\n",
    "plt.xticks(range(7), ['Mon', 'Tues', 'Wed', 'Thurs', 'Fri', 'Sat', 'Sun'])\n",
    "plt.legend()\n",
    "plt.show()"
   ]
  },
  {
   "cell_type": "markdown",
   "id": "2feb9437",
   "metadata": {},
   "source": [
    "## Feature Analysis"
   ]
  },
  {
   "cell_type": "code",
   "execution_count": null,
   "id": "a08a7dc4",
   "metadata": {},
   "outputs": [],
   "source": [
    "# Selecting the PCA transformed features and class\n",
    "features = data.iloc[: , 1:29]\n",
    "class_labels = data['Class']\n",
    "\n",
    "# Calculate the correlation matrix \n",
    "correlation_matrix = pd.concat([features, class_labels], axis = 1).corr()\n",
    "\n",
    "# Plot the correlation matrix\n",
    "plt.figure(figsize=(10,8))\n",
    "sns.heatmap(correlation_matrix, cmap = 'Blues', annot=True, fmt=\".2f\", linewidths=0.5)\n",
    "plt.title(' PCA transformed features VS Transaction Class')\n",
    "plt.show()"
   ]
  },
  {
   "cell_type": "code",
   "execution_count": null,
   "id": "303e6f3c",
   "metadata": {},
   "outputs": [],
   "source": [
    "# Select the features required for histogram\n",
    "selected_features = ['V4', 'V10', 'V14', 'V17']\n",
    "selected_data = data[selected_features + ['Class']]\n",
    "\n",
    "# Visualize the distributions and relations with historgram\n",
    "plt.figure(figsize = (12,8))\n",
    "for i, feature in enumerate(selected_features):\n",
    "    plt.subplot(2 , 2 , i+1 )\n",
    "    sns.histplot(data = selected_data , x=feature, hue ='Class', kde = True ,multiple = 'stack')\n",
    "    plt.title(f'Distribution of {feature}')\n",
    "    plt.xlabel(feature)\n",
    "    plt.ylabel('Count')\n",
    "    \n",
    "plt.tight_layout()    \n",
    "plt.show()"
   ]
  },
  {
   "cell_type": "code",
   "execution_count": null,
   "id": "5f02ec11",
   "metadata": {},
   "outputs": [],
   "source": [
    "# Selection trasaction amounts for fradulent and non-fraudlent trasactions\n",
    "fraudlent_transactions = data[data['Class']== 1]['Amount']\n",
    "non_fraudlent_transactions = data[data['Class']== 0]['Amount']\n",
    "\n",
    "# Create a boxplot to check the outliers\n",
    "plt.figure(figsize=(8,6))\n",
    "sns.boxplot(x='Class',y= 'Amount',data=data)\n",
    "plt.xlabel('Class')\n",
    "plt.ylabel('Amount')\n",
    "plt.title('Comparison of transactions : Fraud VS Non-Fraud')\n",
    "plt.xticks([0,1],['Non-Fraud','Fraud'])\n",
    "\n",
    "plt.show()"
   ]
  },
  {
   "cell_type": "markdown",
   "id": "49ff50f1",
   "metadata": {},
   "source": [
    "## Hypothesis testing"
   ]
  },
  {
   "cell_type": "code",
   "execution_count": null,
   "id": "f51fb76c",
   "metadata": {},
   "outputs": [],
   "source": [
    "from scipy import stats\n",
    "\n",
    "# Selection trasaction amounts for fradulent and non-fraudlent trasactions\n",
    "fraudlent_transactions = data[data['Class']== 1]['Amount']\n",
    "non_fraudlent_transactions = data[data['Class']== 0]['Amount']\n",
    "\n",
    "# Perform hypothesis testing \n",
    "t_statistic , p_value = stats.ttest_ind(fraudlent_transactions, non_fraudlent_transactions, equal_var = False)\n",
    "\n",
    "# Performing z-score test\n",
    "z_scores = (fraudlent_transactions - np.mean(non_fraudlent_transactions)) / np.std(non_fraudlent_transactions)\n",
    "\n",
    "# Calculate percentiles for given amount\n",
    "fraudlent_percentiles = np.percentile(fraudlent_transactions, [25,50,75])\n",
    "\n",
    "# Calculated standard deviation for each transaction\n",
    "std_fraud = np.std(fraudlent_transactions)\n",
    "std_non_fraud = np.std(non_fraudlent_transactions)\n",
    "\n",
    "# Print the results\n",
    "print('Hypothesis Testing (t_test) - T-statistic :', t_statistic)\n",
    "print('Hypothesis Testing(t_test) - p-value :', p_value)\n",
    "print('Z-scores for fraudlent transactions :', z_scores)\n",
    "print('Fraudlent transactions amount percentiles(25th , 50th , 75th) :', fraudlent_percentiles)\n",
    "print('Standard Deviation - Fraudlent transactions :', std_fraud)\n",
    "print('Standard Deviation - Non Fraudlent transactions : ', std_non_fraud)"
   ]
  },
  {
   "cell_type": "markdown",
   "id": "0960773d",
   "metadata": {},
   "source": [
    "## Identify patterns or anamolies in the anonymized features"
   ]
  },
  {
   "cell_type": "code",
   "execution_count": null,
   "id": "2ec1741f",
   "metadata": {},
   "outputs": [],
   "source": [
    "# Examine feature distributions\n",
    "\n",
    "data.hist(figsize=(20,20))\n",
    "plt.tight_layout()\n",
    "plt.show()"
   ]
  },
  {
   "cell_type": "code",
   "execution_count": null,
   "id": "9186501f",
   "metadata": {},
   "outputs": [],
   "source": [
    "# Identify Outliers using boxplot\n",
    "\n",
    "plt.figure(figsize=(20 , 10))\n",
    "data.boxplot()\n",
    "plt.xticks(rotation = 90)\n",
    "\n",
    "plt.show()"
   ]
  },
  {
   "cell_type": "markdown",
   "id": "721c11f4",
   "metadata": {},
   "source": [
    "## Machine Learning Model"
   ]
  },
  {
   "cell_type": "code",
   "execution_count": 19,
   "id": "c387a636",
   "metadata": {},
   "outputs": [],
   "source": [
    "from sklearn.model_selection import train_test_split\n",
    "from sklearn.preprocessing import StandardScaler\n",
    "from sklearn.linear_model import LogisticRegression\n",
    "from sklearn.tree import DecisionTreeClassifier\n",
    "\n",
    "# Split the dataset into test and training features \n",
    "X_train , X_test , y_train , y_test = train_test_split(X_res, y_res , test_size = 0.2 , random_state = 42)"
   ]
  },
  {
   "cell_type": "code",
   "execution_count": 20,
   "id": "81c3a6a7",
   "metadata": {},
   "outputs": [],
   "source": [
    "# Scale the features\n",
    "scaler = StandardScaler()\n",
    "X_train = scaler.fit_transform(X_train)\n",
    "X_test = scaler.transform(X_test)"
   ]
  },
  {
   "cell_type": "code",
   "execution_count": 21,
   "id": "e9cb3489",
   "metadata": {},
   "outputs": [
    {
     "data": {
      "text/plain": [
       "LogisticRegression()"
      ]
     },
     "execution_count": 21,
     "metadata": {},
     "output_type": "execute_result"
    }
   ],
   "source": [
    "model = LogisticRegression()\n",
    "model.fit(X_train , y_train)"
   ]
  },
  {
   "cell_type": "code",
   "execution_count": 22,
   "id": "6544be8d",
   "metadata": {},
   "outputs": [],
   "source": [
    "y_pred = model.predict(X_test)"
   ]
  },
  {
   "cell_type": "code",
   "execution_count": 23,
   "id": "7a0efa95",
   "metadata": {},
   "outputs": [],
   "source": [
    "from sklearn.metrics import accuracy_score , classification_report, confusion_matrix\n",
    "\n",
    "accuracy = accuracy_score(y_test , y_pred)\n",
    "report = classification_report(y_test, y_pred)\n",
    "conf_matrix = confusion_matrix(y_test , y_pred)"
   ]
  },
  {
   "cell_type": "code",
   "execution_count": 24,
   "id": "0a6874b1",
   "metadata": {},
   "outputs": [
    {
     "name": "stdout",
     "output_type": "stream",
     "text": [
      "Model:LogisticRegression\n",
      "Confusion Matrix:\n",
      "[[97  2]\n",
      " [ 8 90]]\n",
      "Classification Report:\n",
      "              precision    recall  f1-score   support\n",
      "\n",
      "           0       0.92      0.98      0.95        99\n",
      "           1       0.98      0.92      0.95        98\n",
      "\n",
      "    accuracy                           0.95       197\n",
      "   macro avg       0.95      0.95      0.95       197\n",
      "weighted avg       0.95      0.95      0.95       197\n",
      "\n",
      "Accuracy: 0.949238578680203\n",
      "----------------------------------\n"
     ]
    }
   ],
   "source": [
    "print(f\"Model:{model.__class__.__name__}\")\n",
    "print(f\"Confusion Matrix:\\n{confusion_matrix(y_test,y_pred)}\")\n",
    "print(f\"Classification Report:\\n{classification_report(y_test,y_pred)}\")\n",
    "print(f\"Accuracy: {accuracy}\")\n",
    "print(\"----------------------------------\")"
   ]
  },
  {
   "cell_type": "markdown",
   "id": "4fa146dc",
   "metadata": {},
   "source": [
    "## Decision Tree Classifier"
   ]
  },
  {
   "cell_type": "code",
   "execution_count": 25,
   "id": "ab2fe3fa",
   "metadata": {},
   "outputs": [],
   "source": [
    "classifier = DecisionTreeClassifier()"
   ]
  },
  {
   "cell_type": "code",
   "execution_count": 26,
   "id": "78cfd788",
   "metadata": {},
   "outputs": [
    {
     "data": {
      "text/plain": [
       "DecisionTreeClassifier()"
      ]
     },
     "execution_count": 26,
     "metadata": {},
     "output_type": "execute_result"
    }
   ],
   "source": [
    "classifier.fit(X_train,y_train)"
   ]
  },
  {
   "cell_type": "code",
   "execution_count": 27,
   "id": "9ac32fe4",
   "metadata": {},
   "outputs": [
    {
     "data": {
      "text/plain": [
       "array([1, 0, 1, 0, 0, 1, 1, 0, 1, 1, 0, 1, 1, 0, 0, 0, 0, 1, 1, 0, 0, 0,\n",
       "       1, 0, 1, 0, 0, 0, 0, 0, 0, 0, 0, 0, 1, 0, 0, 0, 0, 0, 0, 0, 1, 0,\n",
       "       1, 1, 1, 0, 0, 1, 1, 0, 1, 1, 1, 1, 1, 0, 1, 1, 0, 0, 0, 0, 1, 0,\n",
       "       1, 0, 0, 1, 0, 0, 0, 1, 1, 0, 1, 0, 1, 0, 1, 1, 1, 1, 0, 0, 0, 1,\n",
       "       1, 1, 0, 0, 1, 1, 1, 1, 0, 1, 1, 1, 1, 1, 0, 1, 1, 1, 0, 1, 0, 1,\n",
       "       1, 0, 1, 0, 1, 0, 0, 1, 0, 1, 0, 1, 0, 1, 1, 1, 1, 0, 0, 1, 1, 1,\n",
       "       0, 0, 1, 0, 0, 0, 1, 1, 1, 1, 0, 0, 1, 0, 0, 0, 0, 0, 0, 0, 0, 1,\n",
       "       0, 1, 1, 0, 1, 0, 0, 0, 1, 0, 1, 0, 1, 1, 0, 0, 1, 1, 0, 0, 0, 0,\n",
       "       0, 0, 1, 0, 1, 1, 0, 0, 0, 0, 0, 1, 1, 1, 1, 1, 0, 0, 1, 0, 1],\n",
       "      dtype=int64)"
      ]
     },
     "execution_count": 27,
     "metadata": {},
     "output_type": "execute_result"
    }
   ],
   "source": [
    "# Predicting the test result set\n",
    "y_pred1 = classifier.predict(X_test)\n",
    "y_pred1"
   ]
  },
  {
   "cell_type": "code",
   "execution_count": 28,
   "id": "2b04c050",
   "metadata": {},
   "outputs": [],
   "source": [
    "# Creating the confusion matrix\n",
    "from sklearn.metrics import confusion_matrix\n",
    "\n",
    "cm = confusion_matrix(y_test,y_pred1)\n",
    "accuracy_dt = accuracy_score(y_test,y_pred1)\n",
    "report = classification_report(y_test,y_pred1)"
   ]
  },
  {
   "cell_type": "code",
   "execution_count": 29,
   "id": "71191abb",
   "metadata": {},
   "outputs": [
    {
     "data": {
      "text/plain": [
       "0.9543147208121827"
      ]
     },
     "execution_count": 29,
     "metadata": {},
     "output_type": "execute_result"
    }
   ],
   "source": [
    "# Printing results\n",
    "cm\n",
    "accuracy_dt"
   ]
  },
  {
   "cell_type": "markdown",
   "id": "e64cab76",
   "metadata": {},
   "source": [
    "## Random Forest Classifier"
   ]
  },
  {
   "cell_type": "code",
   "execution_count": 30,
   "id": "a8e78b24",
   "metadata": {},
   "outputs": [],
   "source": [
    "from sklearn.ensemble import RandomForestClassifier"
   ]
  },
  {
   "cell_type": "code",
   "execution_count": 32,
   "id": "88626987",
   "metadata": {},
   "outputs": [
    {
     "data": {
      "text/plain": [
       "RandomForestClassifier(random_state=42)"
      ]
     },
     "execution_count": 32,
     "metadata": {},
     "output_type": "execute_result"
    }
   ],
   "source": [
    "model = RandomForestClassifier(random_state=42)\n",
    "model.fit(X_train,y_train)"
   ]
  },
  {
   "cell_type": "code",
   "execution_count": 34,
   "id": "ca15bb6d",
   "metadata": {},
   "outputs": [],
   "source": [
    "# Make Predictions\n",
    "y_pred2 = model.predict(X_test)"
   ]
  },
  {
   "cell_type": "code",
   "execution_count": 36,
   "id": "42b1cb37",
   "metadata": {},
   "outputs": [
    {
     "name": "stdout",
     "output_type": "stream",
     "text": [
      "Accuracy: 0.9593908629441624\n",
      "Classification Report:\n",
      "               precision    recall  f1-score   support\n",
      "\n",
      "           0       0.93      0.99      0.96        99\n",
      "           1       0.99      0.93      0.96        98\n",
      "\n",
      "    accuracy                           0.96       197\n",
      "   macro avg       0.96      0.96      0.96       197\n",
      "weighted avg       0.96      0.96      0.96       197\n",
      "\n"
     ]
    }
   ],
   "source": [
    "# Evaluating the model \n",
    "print(\"Accuracy:\",accuracy_score(y_test,y_pred2))\n",
    "print(\"Classification Report:\\n\",classification_report(y_test,y_pred2))"
   ]
  },
  {
   "cell_type": "code",
   "execution_count": null,
   "id": "fa50f860",
   "metadata": {},
   "outputs": [],
   "source": []
  }
 ],
 "metadata": {
  "kernelspec": {
   "display_name": "Python 3 (ipykernel)",
   "language": "python",
   "name": "python3"
  },
  "language_info": {
   "codemirror_mode": {
    "name": "ipython",
    "version": 3
   },
   "file_extension": ".py",
   "mimetype": "text/x-python",
   "name": "python",
   "nbconvert_exporter": "python",
   "pygments_lexer": "ipython3",
   "version": "3.9.13"
  }
 },
 "nbformat": 4,
 "nbformat_minor": 5
}
